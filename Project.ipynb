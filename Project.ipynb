{
 "cells": [
  {
   "cell_type": "markdown",
   "metadata": {},
   "source": [
    "# CS 584 Project\n",
    "## 1. Importing required libraries"
   ]
  },
  {
   "cell_type": "code",
   "execution_count": 1,
   "metadata": {},
   "outputs": [],
   "source": [
    "import pandas as pd\n",
    "import numpy as np\n",
    "import matplotlib.pyplot as plt\n",
    "from matplotlib.pyplot import figure\n",
    "import seaborn as sns\n",
    "%matplotlib inline\n",
    "from collections import Counter\n",
    "from sklearn.decomposition import PCA\n",
    "from sklearn import svm, tree, linear_model, neighbors, naive_bayes, ensemble, discriminant_analysis, gaussian_process\n",
    "from sklearn.tree import DecisionTreeClassifier\n",
    "from sklearn import metrics\n",
    "from sklearn.metrics import classification_report, confusion_matrix, accuracy_score , roc_auc_score, roc_curve, auc, pairwise_distances\n",
    "from sklearn.model_selection import train_test_split, learning_curve, cross_val_score, GridSearchCV\n",
    "from sklearn.base import clone\n",
    "from itertools import combinations \n",
    "from sklearn.pipeline import Pipeline\n",
    "from sklearn.ensemble import RandomForestClassifier\n",
    "from sklearn.neighbors import NearestNeighbors\n",
    "from sklearn.manifold import TSNE\n",
    "import warnings\n",
    "warnings.filterwarnings(\"ignore\", category=DeprecationWarning)\n",
    "from sklearn.preprocessing import OneHotEncoder, LabelEncoder , StandardScaler\n",
    "from sklearn import feature_selection, model_selection, preprocessing\n",
    "import math"
   ]
  },
  {
   "cell_type": "markdown",
   "metadata": {},
   "source": [
    "## 2. Importing and sampling data"
   ]
  },
  {
   "cell_type": "code",
   "execution_count": 2,
   "metadata": {},
   "outputs": [],
   "source": [
    "df = pd.read_csv(\"./data/data.csv\", header=0)\n",
    "df = df.rename(columns={\"Unnamed: 0\": \"Patient ID\"})\n",
    "df_label = pd.read_csv(\"./data/labels.csv\", header=0)\n",
    "df_label = df_label.rename(columns={\"Unnamed: 0\": \"Patient ID\"})"
   ]
  },
  {
   "cell_type": "code",
   "execution_count": 3,
   "metadata": {},
   "outputs": [
    {
     "data": {
      "text/html": [
       "<div>\n",
       "<style scoped>\n",
       "    .dataframe tbody tr th:only-of-type {\n",
       "        vertical-align: middle;\n",
       "    }\n",
       "\n",
       "    .dataframe tbody tr th {\n",
       "        vertical-align: top;\n",
       "    }\n",
       "\n",
       "    .dataframe thead th {\n",
       "        text-align: right;\n",
       "    }\n",
       "</style>\n",
       "<table border=\"1\" class=\"dataframe\">\n",
       "  <thead>\n",
       "    <tr style=\"text-align: right;\">\n",
       "      <th></th>\n",
       "      <th>Patient ID</th>\n",
       "      <th>gene_0</th>\n",
       "      <th>gene_1</th>\n",
       "      <th>gene_2</th>\n",
       "      <th>gene_3</th>\n",
       "      <th>gene_4</th>\n",
       "      <th>gene_5</th>\n",
       "      <th>gene_6</th>\n",
       "      <th>gene_7</th>\n",
       "      <th>gene_8</th>\n",
       "      <th>...</th>\n",
       "      <th>gene_20521</th>\n",
       "      <th>gene_20522</th>\n",
       "      <th>gene_20523</th>\n",
       "      <th>gene_20524</th>\n",
       "      <th>gene_20525</th>\n",
       "      <th>gene_20526</th>\n",
       "      <th>gene_20527</th>\n",
       "      <th>gene_20528</th>\n",
       "      <th>gene_20529</th>\n",
       "      <th>gene_20530</th>\n",
       "    </tr>\n",
       "  </thead>\n",
       "  <tbody>\n",
       "    <tr>\n",
       "      <th>380</th>\n",
       "      <td>sample_380</td>\n",
       "      <td>0.0</td>\n",
       "      <td>2.495081</td>\n",
       "      <td>1.747301</td>\n",
       "      <td>6.189299</td>\n",
       "      <td>9.982138</td>\n",
       "      <td>0.0</td>\n",
       "      <td>6.876075</td>\n",
       "      <td>1.262433</td>\n",
       "      <td>0.0</td>\n",
       "      <td>...</td>\n",
       "      <td>6.633395</td>\n",
       "      <td>8.240686</td>\n",
       "      <td>10.053206</td>\n",
       "      <td>5.389560</td>\n",
       "      <td>9.954442</td>\n",
       "      <td>11.579075</td>\n",
       "      <td>10.408011</td>\n",
       "      <td>9.381346</td>\n",
       "      <td>5.168891</td>\n",
       "      <td>0.0</td>\n",
       "    </tr>\n",
       "    <tr>\n",
       "      <th>539</th>\n",
       "      <td>sample_539</td>\n",
       "      <td>0.0</td>\n",
       "      <td>2.390393</td>\n",
       "      <td>2.790251</td>\n",
       "      <td>8.063670</td>\n",
       "      <td>9.477859</td>\n",
       "      <td>0.0</td>\n",
       "      <td>5.793389</td>\n",
       "      <td>0.492007</td>\n",
       "      <td>0.0</td>\n",
       "      <td>...</td>\n",
       "      <td>6.172404</td>\n",
       "      <td>9.233852</td>\n",
       "      <td>9.915648</td>\n",
       "      <td>0.858220</td>\n",
       "      <td>8.978871</td>\n",
       "      <td>12.704079</td>\n",
       "      <td>10.133836</td>\n",
       "      <td>9.072237</td>\n",
       "      <td>4.238978</td>\n",
       "      <td>0.0</td>\n",
       "    </tr>\n",
       "    <tr>\n",
       "      <th>582</th>\n",
       "      <td>sample_582</td>\n",
       "      <td>0.0</td>\n",
       "      <td>5.774405</td>\n",
       "      <td>5.229730</td>\n",
       "      <td>6.083894</td>\n",
       "      <td>9.410716</td>\n",
       "      <td>0.0</td>\n",
       "      <td>5.759489</td>\n",
       "      <td>0.000000</td>\n",
       "      <td>0.0</td>\n",
       "      <td>...</td>\n",
       "      <td>5.698727</td>\n",
       "      <td>8.398577</td>\n",
       "      <td>10.455368</td>\n",
       "      <td>3.803020</td>\n",
       "      <td>9.472817</td>\n",
       "      <td>11.218587</td>\n",
       "      <td>10.864743</td>\n",
       "      <td>9.918766</td>\n",
       "      <td>4.272016</td>\n",
       "      <td>0.0</td>\n",
       "    </tr>\n",
       "    <tr>\n",
       "      <th>688</th>\n",
       "      <td>sample_688</td>\n",
       "      <td>0.0</td>\n",
       "      <td>1.217355</td>\n",
       "      <td>1.294018</td>\n",
       "      <td>6.965219</td>\n",
       "      <td>10.684714</td>\n",
       "      <td>0.0</td>\n",
       "      <td>7.619134</td>\n",
       "      <td>0.000000</td>\n",
       "      <td>0.0</td>\n",
       "      <td>...</td>\n",
       "      <td>3.339907</td>\n",
       "      <td>7.385793</td>\n",
       "      <td>9.364621</td>\n",
       "      <td>6.313939</td>\n",
       "      <td>8.854329</td>\n",
       "      <td>12.322258</td>\n",
       "      <td>8.964991</td>\n",
       "      <td>9.427485</td>\n",
       "      <td>8.066191</td>\n",
       "      <td>0.0</td>\n",
       "    </tr>\n",
       "    <tr>\n",
       "      <th>483</th>\n",
       "      <td>sample_483</td>\n",
       "      <td>0.0</td>\n",
       "      <td>3.096616</td>\n",
       "      <td>2.225182</td>\n",
       "      <td>7.408066</td>\n",
       "      <td>9.285673</td>\n",
       "      <td>0.0</td>\n",
       "      <td>6.548088</td>\n",
       "      <td>0.000000</td>\n",
       "      <td>0.0</td>\n",
       "      <td>...</td>\n",
       "      <td>6.294860</td>\n",
       "      <td>8.877091</td>\n",
       "      <td>10.173252</td>\n",
       "      <td>7.860733</td>\n",
       "      <td>10.410345</td>\n",
       "      <td>11.203782</td>\n",
       "      <td>9.515765</td>\n",
       "      <td>10.152221</td>\n",
       "      <td>3.980985</td>\n",
       "      <td>0.0</td>\n",
       "    </tr>\n",
       "  </tbody>\n",
       "</table>\n",
       "<p>5 rows × 20532 columns</p>\n",
       "</div>"
      ],
      "text/plain": [
       "     Patient ID  gene_0    gene_1    gene_2    gene_3     gene_4  gene_5  \\\n",
       "380  sample_380     0.0  2.495081  1.747301  6.189299   9.982138     0.0   \n",
       "539  sample_539     0.0  2.390393  2.790251  8.063670   9.477859     0.0   \n",
       "582  sample_582     0.0  5.774405  5.229730  6.083894   9.410716     0.0   \n",
       "688  sample_688     0.0  1.217355  1.294018  6.965219  10.684714     0.0   \n",
       "483  sample_483     0.0  3.096616  2.225182  7.408066   9.285673     0.0   \n",
       "\n",
       "       gene_6    gene_7  gene_8  ...  gene_20521  gene_20522  gene_20523  \\\n",
       "380  6.876075  1.262433     0.0  ...    6.633395    8.240686   10.053206   \n",
       "539  5.793389  0.492007     0.0  ...    6.172404    9.233852    9.915648   \n",
       "582  5.759489  0.000000     0.0  ...    5.698727    8.398577   10.455368   \n",
       "688  7.619134  0.000000     0.0  ...    3.339907    7.385793    9.364621   \n",
       "483  6.548088  0.000000     0.0  ...    6.294860    8.877091   10.173252   \n",
       "\n",
       "     gene_20524  gene_20525  gene_20526  gene_20527  gene_20528  gene_20529  \\\n",
       "380    5.389560    9.954442   11.579075   10.408011    9.381346    5.168891   \n",
       "539    0.858220    8.978871   12.704079   10.133836    9.072237    4.238978   \n",
       "582    3.803020    9.472817   11.218587   10.864743    9.918766    4.272016   \n",
       "688    6.313939    8.854329   12.322258    8.964991    9.427485    8.066191   \n",
       "483    7.860733   10.410345   11.203782    9.515765   10.152221    3.980985   \n",
       "\n",
       "     gene_20530  \n",
       "380         0.0  \n",
       "539         0.0  \n",
       "582         0.0  \n",
       "688         0.0  \n",
       "483         0.0  \n",
       "\n",
       "[5 rows x 20532 columns]"
      ]
     },
     "execution_count": 3,
     "metadata": {},
     "output_type": "execute_result"
    }
   ],
   "source": [
    "df.sample(5)"
   ]
  },
  {
   "cell_type": "code",
   "execution_count": 4,
   "metadata": {},
   "outputs": [
    {
     "name": "stdout",
     "output_type": "stream",
     "text": [
      "<class 'pandas.core.frame.DataFrame'>\n",
      "RangeIndex: 801 entries, 0 to 800\n",
      "Columns: 20532 entries, Patient ID to gene_20530\n",
      "dtypes: float64(20531), object(1)\n",
      "memory usage: 125.5+ MB\n"
     ]
    }
   ],
   "source": [
    "df.info()"
   ]
  },
  {
   "cell_type": "code",
   "execution_count": 5,
   "metadata": {},
   "outputs": [
    {
     "name": "stdout",
     "output_type": "stream",
     "text": [
      "Dataset Shape :  (801, 20532)\n",
      "Dataset Size :  16446132\n"
     ]
    }
   ],
   "source": [
    "print(\"Dataset Shape : \",df.shape) \n",
    "print(\"Dataset Size : \",df.size) "
   ]
  },
  {
   "cell_type": "markdown",
   "metadata": {},
   "source": [
    "## 3. Exploratory Data Analysis"
   ]
  },
  {
   "cell_type": "code",
   "execution_count": 6,
   "metadata": {},
   "outputs": [
    {
     "data": {
      "text/html": [
       "<div>\n",
       "<style scoped>\n",
       "    .dataframe tbody tr th:only-of-type {\n",
       "        vertical-align: middle;\n",
       "    }\n",
       "\n",
       "    .dataframe tbody tr th {\n",
       "        vertical-align: top;\n",
       "    }\n",
       "\n",
       "    .dataframe thead th {\n",
       "        text-align: right;\n",
       "    }\n",
       "</style>\n",
       "<table border=\"1\" class=\"dataframe\">\n",
       "  <thead>\n",
       "    <tr style=\"text-align: right;\">\n",
       "      <th></th>\n",
       "      <th>gene_0</th>\n",
       "      <th>gene_1</th>\n",
       "      <th>gene_2</th>\n",
       "      <th>gene_3</th>\n",
       "      <th>gene_4</th>\n",
       "      <th>gene_5</th>\n",
       "      <th>gene_6</th>\n",
       "      <th>gene_7</th>\n",
       "      <th>gene_8</th>\n",
       "      <th>gene_9</th>\n",
       "      <th>...</th>\n",
       "      <th>gene_20521</th>\n",
       "      <th>gene_20522</th>\n",
       "      <th>gene_20523</th>\n",
       "      <th>gene_20524</th>\n",
       "      <th>gene_20525</th>\n",
       "      <th>gene_20526</th>\n",
       "      <th>gene_20527</th>\n",
       "      <th>gene_20528</th>\n",
       "      <th>gene_20529</th>\n",
       "      <th>gene_20530</th>\n",
       "    </tr>\n",
       "  </thead>\n",
       "  <tbody>\n",
       "    <tr>\n",
       "      <th>count</th>\n",
       "      <td>801.000000</td>\n",
       "      <td>801.000000</td>\n",
       "      <td>801.000000</td>\n",
       "      <td>801.000000</td>\n",
       "      <td>801.000000</td>\n",
       "      <td>801.0</td>\n",
       "      <td>801.000000</td>\n",
       "      <td>801.000000</td>\n",
       "      <td>801.000000</td>\n",
       "      <td>801.000000</td>\n",
       "      <td>...</td>\n",
       "      <td>801.000000</td>\n",
       "      <td>801.000000</td>\n",
       "      <td>801.000000</td>\n",
       "      <td>801.000000</td>\n",
       "      <td>801.000000</td>\n",
       "      <td>801.000000</td>\n",
       "      <td>801.000000</td>\n",
       "      <td>801.000000</td>\n",
       "      <td>801.000000</td>\n",
       "      <td>801.000000</td>\n",
       "    </tr>\n",
       "    <tr>\n",
       "      <th>mean</th>\n",
       "      <td>0.026642</td>\n",
       "      <td>3.010909</td>\n",
       "      <td>3.095350</td>\n",
       "      <td>6.722305</td>\n",
       "      <td>9.813612</td>\n",
       "      <td>0.0</td>\n",
       "      <td>7.405509</td>\n",
       "      <td>0.499882</td>\n",
       "      <td>0.016744</td>\n",
       "      <td>0.013428</td>\n",
       "      <td>...</td>\n",
       "      <td>5.896573</td>\n",
       "      <td>8.765891</td>\n",
       "      <td>10.056252</td>\n",
       "      <td>4.847727</td>\n",
       "      <td>9.741987</td>\n",
       "      <td>11.742228</td>\n",
       "      <td>10.155271</td>\n",
       "      <td>9.590726</td>\n",
       "      <td>5.528177</td>\n",
       "      <td>0.095411</td>\n",
       "    </tr>\n",
       "    <tr>\n",
       "      <th>std</th>\n",
       "      <td>0.136850</td>\n",
       "      <td>1.200828</td>\n",
       "      <td>1.065601</td>\n",
       "      <td>0.638819</td>\n",
       "      <td>0.506537</td>\n",
       "      <td>0.0</td>\n",
       "      <td>1.108237</td>\n",
       "      <td>0.508799</td>\n",
       "      <td>0.133635</td>\n",
       "      <td>0.204722</td>\n",
       "      <td>...</td>\n",
       "      <td>0.746399</td>\n",
       "      <td>0.603176</td>\n",
       "      <td>0.379278</td>\n",
       "      <td>2.382728</td>\n",
       "      <td>0.533898</td>\n",
       "      <td>0.670371</td>\n",
       "      <td>0.580569</td>\n",
       "      <td>0.563849</td>\n",
       "      <td>2.073859</td>\n",
       "      <td>0.364529</td>\n",
       "    </tr>\n",
       "    <tr>\n",
       "      <th>min</th>\n",
       "      <td>0.000000</td>\n",
       "      <td>0.000000</td>\n",
       "      <td>0.000000</td>\n",
       "      <td>5.009284</td>\n",
       "      <td>8.435999</td>\n",
       "      <td>0.0</td>\n",
       "      <td>3.930747</td>\n",
       "      <td>0.000000</td>\n",
       "      <td>0.000000</td>\n",
       "      <td>0.000000</td>\n",
       "      <td>...</td>\n",
       "      <td>2.853517</td>\n",
       "      <td>6.678368</td>\n",
       "      <td>8.669456</td>\n",
       "      <td>0.000000</td>\n",
       "      <td>7.974942</td>\n",
       "      <td>9.045255</td>\n",
       "      <td>7.530141</td>\n",
       "      <td>7.864533</td>\n",
       "      <td>0.593975</td>\n",
       "      <td>0.000000</td>\n",
       "    </tr>\n",
       "    <tr>\n",
       "      <th>25%</th>\n",
       "      <td>0.000000</td>\n",
       "      <td>2.299039</td>\n",
       "      <td>2.390365</td>\n",
       "      <td>6.303346</td>\n",
       "      <td>9.464466</td>\n",
       "      <td>0.0</td>\n",
       "      <td>6.676042</td>\n",
       "      <td>0.000000</td>\n",
       "      <td>0.000000</td>\n",
       "      <td>0.000000</td>\n",
       "      <td>...</td>\n",
       "      <td>5.454926</td>\n",
       "      <td>8.383834</td>\n",
       "      <td>9.826027</td>\n",
       "      <td>3.130750</td>\n",
       "      <td>9.400747</td>\n",
       "      <td>11.315857</td>\n",
       "      <td>9.836525</td>\n",
       "      <td>9.244219</td>\n",
       "      <td>4.092385</td>\n",
       "      <td>0.000000</td>\n",
       "    </tr>\n",
       "    <tr>\n",
       "      <th>50%</th>\n",
       "      <td>0.000000</td>\n",
       "      <td>3.143687</td>\n",
       "      <td>3.127006</td>\n",
       "      <td>6.655893</td>\n",
       "      <td>9.791599</td>\n",
       "      <td>0.0</td>\n",
       "      <td>7.450114</td>\n",
       "      <td>0.443076</td>\n",
       "      <td>0.000000</td>\n",
       "      <td>0.000000</td>\n",
       "      <td>...</td>\n",
       "      <td>5.972582</td>\n",
       "      <td>8.784144</td>\n",
       "      <td>10.066385</td>\n",
       "      <td>5.444935</td>\n",
       "      <td>9.784524</td>\n",
       "      <td>11.749802</td>\n",
       "      <td>10.191207</td>\n",
       "      <td>9.566511</td>\n",
       "      <td>5.218618</td>\n",
       "      <td>0.000000</td>\n",
       "    </tr>\n",
       "    <tr>\n",
       "      <th>75%</th>\n",
       "      <td>0.000000</td>\n",
       "      <td>3.883484</td>\n",
       "      <td>3.802534</td>\n",
       "      <td>7.038447</td>\n",
       "      <td>10.142324</td>\n",
       "      <td>0.0</td>\n",
       "      <td>8.121984</td>\n",
       "      <td>0.789354</td>\n",
       "      <td>0.000000</td>\n",
       "      <td>0.000000</td>\n",
       "      <td>...</td>\n",
       "      <td>6.411292</td>\n",
       "      <td>9.147136</td>\n",
       "      <td>10.299025</td>\n",
       "      <td>6.637412</td>\n",
       "      <td>10.082269</td>\n",
       "      <td>12.177852</td>\n",
       "      <td>10.578561</td>\n",
       "      <td>9.917888</td>\n",
       "      <td>6.876382</td>\n",
       "      <td>0.000000</td>\n",
       "    </tr>\n",
       "    <tr>\n",
       "      <th>max</th>\n",
       "      <td>1.482332</td>\n",
       "      <td>6.237034</td>\n",
       "      <td>6.063484</td>\n",
       "      <td>10.129528</td>\n",
       "      <td>11.355621</td>\n",
       "      <td>0.0</td>\n",
       "      <td>10.718190</td>\n",
       "      <td>2.779008</td>\n",
       "      <td>1.785592</td>\n",
       "      <td>4.067604</td>\n",
       "      <td>...</td>\n",
       "      <td>7.771054</td>\n",
       "      <td>11.105431</td>\n",
       "      <td>11.318243</td>\n",
       "      <td>9.207495</td>\n",
       "      <td>11.811632</td>\n",
       "      <td>13.715361</td>\n",
       "      <td>11.675653</td>\n",
       "      <td>12.813320</td>\n",
       "      <td>11.205836</td>\n",
       "      <td>5.254133</td>\n",
       "    </tr>\n",
       "  </tbody>\n",
       "</table>\n",
       "<p>8 rows × 20531 columns</p>\n",
       "</div>"
      ],
      "text/plain": [
       "           gene_0      gene_1      gene_2      gene_3      gene_4  gene_5  \\\n",
       "count  801.000000  801.000000  801.000000  801.000000  801.000000   801.0   \n",
       "mean     0.026642    3.010909    3.095350    6.722305    9.813612     0.0   \n",
       "std      0.136850    1.200828    1.065601    0.638819    0.506537     0.0   \n",
       "min      0.000000    0.000000    0.000000    5.009284    8.435999     0.0   \n",
       "25%      0.000000    2.299039    2.390365    6.303346    9.464466     0.0   \n",
       "50%      0.000000    3.143687    3.127006    6.655893    9.791599     0.0   \n",
       "75%      0.000000    3.883484    3.802534    7.038447   10.142324     0.0   \n",
       "max      1.482332    6.237034    6.063484   10.129528   11.355621     0.0   \n",
       "\n",
       "           gene_6      gene_7      gene_8      gene_9  ...  gene_20521  \\\n",
       "count  801.000000  801.000000  801.000000  801.000000  ...  801.000000   \n",
       "mean     7.405509    0.499882    0.016744    0.013428  ...    5.896573   \n",
       "std      1.108237    0.508799    0.133635    0.204722  ...    0.746399   \n",
       "min      3.930747    0.000000    0.000000    0.000000  ...    2.853517   \n",
       "25%      6.676042    0.000000    0.000000    0.000000  ...    5.454926   \n",
       "50%      7.450114    0.443076    0.000000    0.000000  ...    5.972582   \n",
       "75%      8.121984    0.789354    0.000000    0.000000  ...    6.411292   \n",
       "max     10.718190    2.779008    1.785592    4.067604  ...    7.771054   \n",
       "\n",
       "       gene_20522  gene_20523  gene_20524  gene_20525  gene_20526  gene_20527  \\\n",
       "count  801.000000  801.000000  801.000000  801.000000  801.000000  801.000000   \n",
       "mean     8.765891   10.056252    4.847727    9.741987   11.742228   10.155271   \n",
       "std      0.603176    0.379278    2.382728    0.533898    0.670371    0.580569   \n",
       "min      6.678368    8.669456    0.000000    7.974942    9.045255    7.530141   \n",
       "25%      8.383834    9.826027    3.130750    9.400747   11.315857    9.836525   \n",
       "50%      8.784144   10.066385    5.444935    9.784524   11.749802   10.191207   \n",
       "75%      9.147136   10.299025    6.637412   10.082269   12.177852   10.578561   \n",
       "max     11.105431   11.318243    9.207495   11.811632   13.715361   11.675653   \n",
       "\n",
       "       gene_20528  gene_20529  gene_20530  \n",
       "count  801.000000  801.000000  801.000000  \n",
       "mean     9.590726    5.528177    0.095411  \n",
       "std      0.563849    2.073859    0.364529  \n",
       "min      7.864533    0.593975    0.000000  \n",
       "25%      9.244219    4.092385    0.000000  \n",
       "50%      9.566511    5.218618    0.000000  \n",
       "75%      9.917888    6.876382    0.000000  \n",
       "max     12.813320   11.205836    5.254133  \n",
       "\n",
       "[8 rows x 20531 columns]"
      ]
     },
     "execution_count": 6,
     "metadata": {},
     "output_type": "execute_result"
    }
   ],
   "source": [
    "df.describe()"
   ]
  },
  {
   "cell_type": "code",
   "execution_count": 7,
   "metadata": {},
   "outputs": [
    {
     "data": {
      "text/html": [
       "<div>\n",
       "<style scoped>\n",
       "    .dataframe tbody tr th:only-of-type {\n",
       "        vertical-align: middle;\n",
       "    }\n",
       "\n",
       "    .dataframe tbody tr th {\n",
       "        vertical-align: top;\n",
       "    }\n",
       "\n",
       "    .dataframe thead th {\n",
       "        text-align: right;\n",
       "    }\n",
       "</style>\n",
       "<table border=\"1\" class=\"dataframe\">\n",
       "  <thead>\n",
       "    <tr style=\"text-align: right;\">\n",
       "      <th></th>\n",
       "      <th>Patient ID</th>\n",
       "      <th>Class</th>\n",
       "    </tr>\n",
       "  </thead>\n",
       "  <tbody>\n",
       "    <tr>\n",
       "      <th>637</th>\n",
       "      <td>sample_637</td>\n",
       "      <td>BRCA</td>\n",
       "    </tr>\n",
       "    <tr>\n",
       "      <th>619</th>\n",
       "      <td>sample_619</td>\n",
       "      <td>BRCA</td>\n",
       "    </tr>\n",
       "    <tr>\n",
       "      <th>222</th>\n",
       "      <td>sample_222</td>\n",
       "      <td>KIRC</td>\n",
       "    </tr>\n",
       "    <tr>\n",
       "      <th>537</th>\n",
       "      <td>sample_537</td>\n",
       "      <td>PRAD</td>\n",
       "    </tr>\n",
       "    <tr>\n",
       "      <th>259</th>\n",
       "      <td>sample_259</td>\n",
       "      <td>BRCA</td>\n",
       "    </tr>\n",
       "  </tbody>\n",
       "</table>\n",
       "</div>"
      ],
      "text/plain": [
       "     Patient ID Class\n",
       "637  sample_637  BRCA\n",
       "619  sample_619  BRCA\n",
       "222  sample_222  KIRC\n",
       "537  sample_537  PRAD\n",
       "259  sample_259  BRCA"
      ]
     },
     "execution_count": 7,
     "metadata": {},
     "output_type": "execute_result"
    }
   ],
   "source": [
    "df_label.sample(5)"
   ]
  },
  {
   "cell_type": "code",
   "execution_count": 8,
   "metadata": {},
   "outputs": [
    {
     "data": {
      "image/png": "[encoded data removed]",
      "text/plain": [
       "<Figure size 432x288 with 1 Axes>"
      ]
     },
     "metadata": {
      "needs_background": "light"
     },
     "output_type": "display_data"
    }
   ],
   "source": [
    "sns.countplot(df_label['Class'])\n",
    "plt.show()"
   ]
  },
  {
   "cell_type": "code",
   "execution_count": 9,
   "metadata": {},
   "outputs": [
    {
     "data": {
      "text/html": [
       "<div>\n",
       "<style scoped>\n",
       "    .dataframe tbody tr th:only-of-type {\n",
       "        vertical-align: middle;\n",
       "    }\n",
       "\n",
       "    .dataframe tbody tr th {\n",
       "        vertical-align: top;\n",
       "    }\n",
       "\n",
       "    .dataframe thead th {\n",
       "        text-align: right;\n",
       "    }\n",
       "</style>\n",
       "<table border=\"1\" class=\"dataframe\">\n",
       "  <thead>\n",
       "    <tr style=\"text-align: right;\">\n",
       "      <th></th>\n",
       "      <th>Patient ID</th>\n",
       "      <th>Class</th>\n",
       "    </tr>\n",
       "  </thead>\n",
       "  <tbody>\n",
       "    <tr>\n",
       "      <th>count</th>\n",
       "      <td>801</td>\n",
       "      <td>801</td>\n",
       "    </tr>\n",
       "    <tr>\n",
       "      <th>unique</th>\n",
       "      <td>801</td>\n",
       "      <td>5</td>\n",
       "    </tr>\n",
       "    <tr>\n",
       "      <th>top</th>\n",
       "      <td>sample_160</td>\n",
       "      <td>BRCA</td>\n",
       "    </tr>\n",
       "    <tr>\n",
       "      <th>freq</th>\n",
       "      <td>1</td>\n",
       "      <td>300</td>\n",
       "    </tr>\n",
       "  </tbody>\n",
       "</table>\n",
       "</div>"
      ],
      "text/plain": [
       "        Patient ID Class\n",
       "count          801   801\n",
       "unique         801     5\n",
       "top     sample_160  BRCA\n",
       "freq             1   300"
      ]
     },
     "execution_count": 9,
     "metadata": {},
     "output_type": "execute_result"
    }
   ],
   "source": [
    "df_label.describe()"
   ]
  },
  {
   "cell_type": "code",
   "execution_count": 10,
   "metadata": {},
   "outputs": [
    {
     "name": "stdout",
     "output_type": "stream",
     "text": [
      "Number of patients: 801\n"
     ]
    }
   ],
   "source": [
    "print('Number of patients: {}'.format(len(df)))"
   ]
  },
  {
   "cell_type": "code",
   "execution_count": 11,
   "metadata": {},
   "outputs": [
    {
     "name": "stdout",
     "output_type": "stream",
     "text": [
      "Percantage of each type of cancer: \n",
      "BRCA    37.453184\n",
      "KIRC    18.227216\n",
      "LUAD    17.602996\n",
      "PRAD    16.978777\n",
      "COAD     9.737828\n",
      "Name: Class, dtype: float64\n"
     ]
    }
   ],
   "source": [
    "print('Percantage of each type of cancer: \\n{}'.format(df_label['Class'].value_counts(normalize = True)*100))"
   ]
  },
  {
   "cell_type": "code",
   "execution_count": 13,
   "metadata": {},
   "outputs": [
    {
     "name": "stdout",
     "output_type": "stream",
     "text": [
      "Number of null values: 0\n"
     ]
    }
   ],
   "source": [
    "print('Number of null values:', df.isnull().sum().sum())"
   ]
  },
  {
   "cell_type": "code",
   "execution_count": 11,
   "metadata": {},
   "outputs": [],
   "source": [
    "df = df.assign(Class = pd.Series(df_label['Class'].values))"
   ]
  },
  {
   "cell_type": "code",
   "execution_count": 12,
   "metadata": {},
   "outputs": [
    {
     "name": "stdout",
     "output_type": "stream",
     "text": [
      "Percentage of Sparsity of our Dataset: 14.22\n"
     ]
    }
   ],
   "source": [
    "a = df.shape\n",
    "a = a[0] * a[1]\n",
    "b = (df != 0).sum(1).sum()\n",
    "sparsity = 1 - (b/a)\n",
    "print('Percentage of Sparsity of our Dataset: %.2f' % (sparsity*100))"
   ]
  },
  {
   "cell_type": "code",
   "execution_count": 39,
   "metadata": {},
   "outputs": [
    {
     "data": {
      "text/plain": [
       "array([0, 1, 2, 3, 4])"
      ]
     },
     "execution_count": 39,
     "metadata": {},
     "output_type": "execute_result"
    }
   ],
   "source": [
    "labelenc = preprocessing.LabelEncoder()\n",
    "labelenc.fit(df['Class'].unique())\n",
    "labelenc.classes_"
   ]
  },
  {
   "cell_type": "code",
   "execution_count": 40,
   "metadata": {},
   "outputs": [
    {
     "name": "stdout",
     "output_type": "stream",
     "text": [
      "[0 1 2 3 4]\n"
     ]
    }
   ],
   "source": [
    "labelenc.inverse_transform([0, 1, 2, 3, 4])\n",
    "df['Class'] = labelenc.transform(df['Class'])\n",
    "s = df['Class'].unique()\n",
    "s.sort()\n",
    "print(s)"
   ]
  },
  {
   "cell_type": "code",
   "execution_count": 41,
   "metadata": {},
   "outputs": [],
   "source": [
    "X = np.array(df.iloc[:, 1:-1].values)\n",
    "y = np.array(df.iloc[:, -1].values) "
   ]
  },
  {
   "cell_type": "markdown",
   "metadata": {},
   "source": [
    "## 4. Holding out 30% of the data as the test set"
   ]
  },
  {
   "cell_type": "code",
   "execution_count": 42,
   "metadata": {},
   "outputs": [
    {
     "data": {
      "text/plain": [
       "((560, 20531), (560,), (241, 20531), (241,))"
      ]
     },
     "execution_count": 42,
     "metadata": {},
     "output_type": "execute_result"
    }
   ],
   "source": [
    "X_train, X_test, y_train,y_test = train_test_split(X, y, test_size=0.3, random_state=1)\n",
    "X_train.shape, y_train.shape, X_test.shape, y_test.shape"
   ]
  },
  {
   "cell_type": "markdown",
   "metadata": {},
   "source": [
    "## 5. Feature Engineering\n",
    "### 5.1 Feature Scaling"
   ]
  },
  {
   "cell_type": "code",
   "execution_count": 43,
   "metadata": {},
   "outputs": [],
   "source": [
    "stdsc = StandardScaler()\n",
    "\n",
    "X_train = stdsc.fit_transform(X_train)\n",
    "X_test = stdsc.transform(X_test)"
   ]
  },
  {
   "cell_type": "markdown",
   "metadata": {},
   "source": [
    "### 5.2 Feature Importances"
   ]
  },
  {
   "cell_type": "code",
   "execution_count": 44,
   "metadata": {},
   "outputs": [
    {
     "data": {
      "image/png": "[encoded data removed]",
      "text/plain": [
       "<Figure size 1800x720 with 1 Axes>"
      ]
     },
     "metadata": {
      "needs_background": "light"
     },
     "output_type": "display_data"
    }
   ],
   "source": [
    "rnd_clf = RandomForestClassifier(n_estimators=1500, n_jobs=3)\n",
    "rnd_clf.fit(X_train, y_train)\n",
    "list_features = sorted(zip(rnd_clf.feature_importances_, df.columns), reverse=True, key = lambda x: x[0])\n",
    "top_features = {}\n",
    "for row in list_features[:20]:\n",
    "    top_features[row[1]] = row[0]\n",
    "plt.figure(figsize=(25, 10))\n",
    "plt.bar(top_features.keys(), top_features.values(), align='center', alpha=0.5)\n",
    "plt.ylabel('Importance factor')\n",
    "plt.title('Feature Importances of top 20 features')\n",
    "plt.show()"
   ]
  },
  {
   "cell_type": "markdown",
   "metadata": {},
   "source": [
    "### 5.4 Dimensionality Reduction with PCA and t-SNE"
   ]
  },
  {
   "cell_type": "code",
   "execution_count": 53,
   "metadata": {},
   "outputs": [],
   "source": [
    "max1 = 0\n",
    "max_score_pc = 0\n",
    "    \n",
    "for i in range(2, 6):\n",
    "    pipe = Pipeline([('pca', PCA(n_components=i, random_state=0)),\n",
    "    ('clf', DecisionTreeClassifier())])\n",
    "    pipe.fit(X_train, y_train)\n",
    "    if(max1 < pipe.score(X_test, y_test)):\n",
    "        max1 = pipe.score(X_test, y_test)\n",
    "        max_score_pc = i\n",
    "\n",
    "pca = PCA(n_components=max_score_pc)\n",
    "principal_component = pca.fit_transform(X_train)\n",
    "principal_df = pd.DataFrame(data=principal_component)\n",
    "y_train_pca = pd.DataFrame(data = labelenc.inverse_transform(y_train), columns = [\"Class\"])\n",
    "pca_df = pd.concat([principal_df, y_train_pca], axis=1)"
   ]
  },
  {
   "cell_type": "code",
   "execution_count": 54,
   "metadata": {},
   "outputs": [
    {
     "data": {
      "text/html": [
       "<div>\n",
       "<style scoped>\n",
       "    .dataframe tbody tr th:only-of-type {\n",
       "        vertical-align: middle;\n",
       "    }\n",
       "\n",
       "    .dataframe tbody tr th {\n",
       "        vertical-align: top;\n",
       "    }\n",
       "\n",
       "    .dataframe thead th {\n",
       "        text-align: right;\n",
       "    }\n",
       "</style>\n",
       "<table border=\"1\" class=\"dataframe\">\n",
       "  <thead>\n",
       "    <tr style=\"text-align: right;\">\n",
       "      <th></th>\n",
       "      <th>0</th>\n",
       "      <th>1</th>\n",
       "      <th>2</th>\n",
       "      <th>3</th>\n",
       "      <th>Class</th>\n",
       "    </tr>\n",
       "  </thead>\n",
       "  <tbody>\n",
       "    <tr>\n",
       "      <th>0</th>\n",
       "      <td>-17.298308</td>\n",
       "      <td>-67.434826</td>\n",
       "      <td>-15.222960</td>\n",
       "      <td>5.018711</td>\n",
       "      <td>0</td>\n",
       "    </tr>\n",
       "    <tr>\n",
       "      <th>1</th>\n",
       "      <td>-21.184985</td>\n",
       "      <td>-48.847990</td>\n",
       "      <td>22.679337</td>\n",
       "      <td>-2.493994</td>\n",
       "      <td>0</td>\n",
       "    </tr>\n",
       "    <tr>\n",
       "      <th>2</th>\n",
       "      <td>-2.856142</td>\n",
       "      <td>-19.207746</td>\n",
       "      <td>55.587486</td>\n",
       "      <td>24.812409</td>\n",
       "      <td>4</td>\n",
       "    </tr>\n",
       "    <tr>\n",
       "      <th>3</th>\n",
       "      <td>-40.803192</td>\n",
       "      <td>-40.539201</td>\n",
       "      <td>-26.429228</td>\n",
       "      <td>-10.555174</td>\n",
       "      <td>0</td>\n",
       "    </tr>\n",
       "    <tr>\n",
       "      <th>4</th>\n",
       "      <td>-11.057068</td>\n",
       "      <td>29.315560</td>\n",
       "      <td>50.193902</td>\n",
       "      <td>-6.023516</td>\n",
       "      <td>4</td>\n",
       "    </tr>\n",
       "  </tbody>\n",
       "</table>\n",
       "</div>"
      ],
      "text/plain": [
       "           0          1          2          3  Class\n",
       "0 -17.298308 -67.434826 -15.222960   5.018711      0\n",
       "1 -21.184985 -48.847990  22.679337  -2.493994      0\n",
       "2  -2.856142 -19.207746  55.587486  24.812409      4\n",
       "3 -40.803192 -40.539201 -26.429228 -10.555174      0\n",
       "4 -11.057068  29.315560  50.193902  -6.023516      4"
      ]
     },
     "execution_count": 54,
     "metadata": {},
     "output_type": "execute_result"
    }
   ],
   "source": [
    "pca_df.head()"
   ]
  },
  {
   "cell_type": "code",
   "execution_count": 55,
   "metadata": {},
   "outputs": [
    {
     "data": {
      "image/png": "[encoded data removed]",
      "text/plain": [
       "<Figure size 582.375x360 with 1 Axes>"
      ]
     },
     "metadata": {
      "needs_background": "light"
     },
     "output_type": "display_data"
    }
   ],
   "source": [
    "sns.pairplot(x_vars = 0, y_vars = 1,data=pca_df, hue=\"Class\",height=5,aspect=1.5)\n",
    "plt.title(\"Pairwise plot with first and second principal components\")\n",
    "plt.xlabel(\"PC 0\")\n",
    "plt.ylabel(\"PC 1\")\n",
    "plt.show()"
   ]
  },
  {
   "cell_type": "code",
   "execution_count": 66,
   "metadata": {},
   "outputs": [
    {
     "data": {
      "image/png": "[encoded data removed]",
      "text/plain": [
       "<Figure size 582.375x360 with 1 Axes>"
      ]
     },
     "metadata": {
      "needs_background": "light"
     },
     "output_type": "display_data"
    }
   ],
   "source": [
    "sns.pairplot(x_vars = 0, y_vars = 3,data=pca_df, hue=\"Class\",height=5,aspect=1.5)\n",
    "plt.title(\"Pairwise plot with first and second principal components\")\n",
    "plt.xlabel(\"PC 0\")\n",
    "plt.ylabel(\"PC 1\")\n",
    "plt.show()"
   ]
  },
  {
   "cell_type": "code",
   "execution_count": 56,
   "metadata": {},
   "outputs": [
    {
     "data": {
      "image/png": "[encoded data removed]",
      "text/plain": [
       "<Figure size 720x504 with 1 Axes>"
      ]
     },
     "metadata": {
      "needs_background": "light"
     },
     "output_type": "display_data"
    }
   ],
   "source": [
    "pca_df.boxplot(figsize= (10,7))\n",
    "plt.title(\"Box plots of all the principal components\")\n",
    "plt.show()"
   ]
  },
  {
   "cell_type": "code",
   "execution_count": 60,
   "metadata": {},
   "outputs": [
    {
     "data": {
      "text/html": [
       "<div>\n",
       "<style scoped>\n",
       "    .dataframe tbody tr th:only-of-type {\n",
       "        vertical-align: middle;\n",
       "    }\n",
       "\n",
       "    .dataframe tbody tr th {\n",
       "        vertical-align: top;\n",
       "    }\n",
       "\n",
       "    .dataframe thead th {\n",
       "        text-align: right;\n",
       "    }\n",
       "</style>\n",
       "<table border=\"1\" class=\"dataframe\">\n",
       "  <thead>\n",
       "    <tr style=\"text-align: right;\">\n",
       "      <th></th>\n",
       "      <th>0</th>\n",
       "      <th>1</th>\n",
       "      <th>Class</th>\n",
       "    </tr>\n",
       "  </thead>\n",
       "  <tbody>\n",
       "    <tr>\n",
       "      <th>0</th>\n",
       "      <td>-12.967100</td>\n",
       "      <td>-13.245197</td>\n",
       "      <td>0</td>\n",
       "    </tr>\n",
       "    <tr>\n",
       "      <th>1</th>\n",
       "      <td>-4.960785</td>\n",
       "      <td>-19.880939</td>\n",
       "      <td>0</td>\n",
       "    </tr>\n",
       "    <tr>\n",
       "      <th>2</th>\n",
       "      <td>20.928839</td>\n",
       "      <td>-7.980594</td>\n",
       "      <td>4</td>\n",
       "    </tr>\n",
       "    <tr>\n",
       "      <th>3</th>\n",
       "      <td>-6.483153</td>\n",
       "      <td>-23.681604</td>\n",
       "      <td>0</td>\n",
       "    </tr>\n",
       "    <tr>\n",
       "      <th>4</th>\n",
       "      <td>17.261839</td>\n",
       "      <td>-8.554152</td>\n",
       "      <td>4</td>\n",
       "    </tr>\n",
       "  </tbody>\n",
       "</table>\n",
       "</div>"
      ],
      "text/plain": [
       "           0          1  Class\n",
       "0 -12.967100 -13.245197      0\n",
       "1  -4.960785 -19.880939      0\n",
       "2  20.928839  -7.980594      4\n",
       "3  -6.483153 -23.681604      0\n",
       "4  17.261839  -8.554152      4"
      ]
     },
     "execution_count": 60,
     "metadata": {},
     "output_type": "execute_result"
    }
   ],
   "source": [
    "tsne = TSNE(n_components=2\n",
    "            , random_state=0)\n",
    "principal_component1 = tsne.fit_transform(X_train)\n",
    "principal_df = pd.DataFrame(data=principal_component1)\n",
    "y_train_tsne = pd.DataFrame(data = labelenc.inverse_transform(y_train), columns = [\"Class\"])\n",
    "tsne_df = pd.concat([principal_df, y_train_tsne], axis=1)\n",
    "tsne_df.head()"
   ]
  },
  {
   "cell_type": "code",
   "execution_count": 58,
   "metadata": {},
   "outputs": [
    {
     "data": {
      "image/png": "[encoded data removed]",
      "text/plain": [
       "<Figure size 720x504 with 1 Axes>"
      ]
     },
     "metadata": {
      "needs_background": "light"
     },
     "output_type": "display_data"
    }
   ],
   "source": [
    "tsne_df.boxplot(figsize= (10,7))\n",
    "plt.title(\"Box plots of all the t-SNE components\")\n",
    "plt.show()"
   ]
  },
  {
   "cell_type": "code",
   "execution_count": 62,
   "metadata": {},
   "outputs": [
    {
     "data": {
      "image/png": "[encoded data removed]",
      "text/plain": [
       "<Figure size 1000x300 with 2 Axes>"
      ]
     },
     "metadata": {
      "needs_background": "light"
     },
     "output_type": "display_data"
    }
   ],
   "source": [
    "fig, (ax1, ax2) = plt.subplots(1, 2, figsize=(10, 3), dpi=100)\n",
    "ax1.hist(tsne_df.iloc[:, 0].values, bins=100)\n",
    "ax1.set_title(\"t-SNE Component 1\")\n",
    "\n",
    "ax2.hist(tsne_df.iloc[:, 1].values, bins=100)\n",
    "ax2.set_title(\"t-SNE Component 2\")\n",
    "plt.show()"
   ]
  },
  {
   "cell_type": "code",
   "execution_count": 63,
   "metadata": {},
   "outputs": [
    {
     "data": {
      "image/png": "[encoded data removed]",
      "text/plain": [
       "<Figure size 474.375x360 with 1 Axes>"
      ]
     },
     "metadata": {
      "needs_background": "light"
     },
     "output_type": "display_data"
    }
   ],
   "source": [
    "sns.pairplot(x_vars=0, y_vars=1, data=tsne_df, hue=\"Class\",height=5,aspect=1.2)\n",
    "plt.title(\"Pairwise plot with t-SNE components\")\n",
    "plt.xlabel(\"t-SNE 0\")\n",
    "plt.ylabel(\"t-SNE 1\")\n",
    "plt.show()"
   ]
  },
  {
   "cell_type": "markdown",
   "metadata": {},
   "source": [
    "## 6. Model Selection"
   ]
  },
  {
   "cell_type": "code",
   "execution_count": 67,
   "metadata": {},
   "outputs": [],
   "source": [
    "def boxplot_cv_results(models_res):\n",
    "    for model_name in models_res.keys():\n",
    "        model_scores = pd.DataFrame.from_dict(models_res[model_name])\n",
    "        model_scores[['test_score', 'train_score']].boxplot()\n",
    "        plt.title(model_name)\n",
    "        plt.show()"
   ]
  },
  {
   "cell_type": "code",
   "execution_count": 68,
   "metadata": {},
   "outputs": [],
   "source": [
    "ml_alg = [ ensemble.RandomForestClassifier(),\n",
    "    naive_bayes.BernoulliNB(),\n",
    "    naive_bayes.GaussianNB(),    \n",
    "    DecisionTreeClassifier(),\n",
    "    svm.LinearSVC()\n",
    "    ]\n",
    "\n",
    "ml_alg_predict = df.Class"
   ]
  },
  {
   "cell_type": "markdown",
   "metadata": {},
   "source": [
    "### 6.1 Training with PCA-reduced data"
   ]
  },
  {
   "cell_type": "code",
   "execution_count": 58,
   "metadata": {},
   "outputs": [
    {
     "name": "stderr",
     "output_type": "stream",
     "text": [
      "/Users/shashank/anaconda3/lib/python3.7/site-packages/sklearn/svm/base.py:929: ConvergenceWarning: Liblinear failed to converge, increase the number of iterations.\n",
      "  \"the number of iterations.\", ConvergenceWarning)\n"
     ]
    },
    {
     "data": {
      "text/html": [
       "<div>\n",
       "<style scoped>\n",
       "    .dataframe tbody tr th:only-of-type {\n",
       "        vertical-align: middle;\n",
       "    }\n",
       "\n",
       "    .dataframe tbody tr th {\n",
       "        vertical-align: top;\n",
       "    }\n",
       "\n",
       "    .dataframe thead th {\n",
       "        text-align: right;\n",
       "    }\n",
       "</style>\n",
       "<table border=\"1\" class=\"dataframe\">\n",
       "  <thead>\n",
       "    <tr style=\"text-align: right;\">\n",
       "      <th></th>\n",
       "      <th>Model Name</th>\n",
       "      <th>Train Accuracy Mean</th>\n",
       "      <th>Validation Accuracy Mean</th>\n",
       "      <th>Time</th>\n",
       "      <th>Test F1 Score</th>\n",
       "    </tr>\n",
       "  </thead>\n",
       "  <tbody>\n",
       "    <tr>\n",
       "      <th>0</th>\n",
       "      <td>RandomForestClassifier</td>\n",
       "      <td>0.999524</td>\n",
       "      <td>0.98</td>\n",
       "      <td>1.70037</td>\n",
       "      <td>0.945995</td>\n",
       "    </tr>\n",
       "    <tr>\n",
       "      <th>2</th>\n",
       "      <td>GaussianNB</td>\n",
       "      <td>0.964286</td>\n",
       "      <td>0.96381</td>\n",
       "      <td>1.79949</td>\n",
       "      <td>0.934815</td>\n",
       "    </tr>\n",
       "    <tr>\n",
       "      <th>3</th>\n",
       "      <td>DecisionTreeClassifier</td>\n",
       "      <td>1</td>\n",
       "      <td>0.966667</td>\n",
       "      <td>1.49027</td>\n",
       "      <td>0.929802</td>\n",
       "    </tr>\n",
       "    <tr>\n",
       "      <th>1</th>\n",
       "      <td>BernoulliNB</td>\n",
       "      <td>0.897857</td>\n",
       "      <td>0.892381</td>\n",
       "      <td>1.4039</td>\n",
       "      <td>0.839721</td>\n",
       "    </tr>\n",
       "    <tr>\n",
       "      <th>4</th>\n",
       "      <td>LinearSVC</td>\n",
       "      <td>0.932143</td>\n",
       "      <td>0.946667</td>\n",
       "      <td>1.62981</td>\n",
       "      <td>0.833856</td>\n",
       "    </tr>\n",
       "  </tbody>\n",
       "</table>\n",
       "</div>"
      ],
      "text/plain": [
       "               Model Name Train Accuracy Mean Validation Accuracy Mean  \\\n",
       "0  RandomForestClassifier            0.999524                     0.98   \n",
       "2              GaussianNB            0.964286                  0.96381   \n",
       "3  DecisionTreeClassifier                   1                 0.966667   \n",
       "1             BernoulliNB            0.897857                 0.892381   \n",
       "4               LinearSVC            0.932143                 0.946667   \n",
       "\n",
       "      Time  Test F1 Score  \n",
       "0  1.70037       0.945995  \n",
       "2  1.79949       0.934815  \n",
       "3  1.49027       0.929802  \n",
       "1   1.4039       0.839721  \n",
       "4  1.62981       0.833856  "
      ]
     },
     "execution_count": 58,
     "metadata": {},
     "output_type": "execute_result"
    }
   ],
   "source": [
    "ml_alg_columns = ['Model Name','Train Accuracy Mean', 'Validation Accuracy Mean','Time']\n",
    "ml_alg_compare_pca = pd.DataFrame(columns = ml_alg_columns)\n",
    "row_index = 0\n",
    "models_res={}\n",
    "for alg in ml_alg:\n",
    "    ml_alg_name = alg.__class__.__name__\n",
    "    \n",
    "    ml_alg_compare_pca.loc[row_index, 'Model Name'] = ml_alg_name\n",
    "    pipe = Pipeline([('pca', PCA(n_components=max_score_pc)),\n",
    "                         ('clf', alg)])\n",
    "    \n",
    "    cv_results = model_selection.cross_validate(pipe, X_train, y_train, cv=5, n_jobs=-1, verbose=False, return_train_score=True)\n",
    "    models_res[ml_alg_name] = cv_results\n",
    "    ml_alg_compare_pca.loc[row_index, 'Time'] = cv_results['fit_time'].mean()\n",
    "    ml_alg_compare_pca.loc[row_index, 'Train Accuracy Mean'] = cv_results['train_score'].mean()\n",
    "    ml_alg_compare_pca.loc[row_index, 'Validation Accuracy Mean'] = cv_results['test_score'].mean()   \n",
    "    pipe.fit(X_train, y_train)\n",
    "    ml_alg_predict[ml_alg_name] = pipe.predict(X_test)\n",
    "    y_true, y_pred = y_test, ml_alg_predict[ml_alg_name]\n",
    "    ml_alg_compare_pca.loc[row_index, 'Test F1 Score'] = classification_report(y_true,y_pred, output_dict=True)['weighted avg']['f1-score']\n",
    "    row_index+=1\n",
    "ml_alg_compare_pca.sort_values(by = ['Test F1 Score'], ascending = False, inplace = True)\n",
    "ml_alg_compare_pca"
   ]
  },
  {
   "cell_type": "code",
   "execution_count": 59,
   "metadata": {
    "scrolled": true
   },
   "outputs": [
    {
     "data": {
      "image/png": "[encoded data removed]",
      "text/plain": [
       "<Figure size 432x288 with 1 Axes>"
      ]
     },
     "metadata": {
      "needs_background": "light"
     },
     "output_type": "display_data"
    },
    {
     "data": {
      "image/png": "[encoded data removed]",
      "text/plain": [
       "<Figure size 432x288 with 1 Axes>"
      ]
     },
     "metadata": {
      "needs_background": "light"
     },
     "output_type": "display_data"
    },
    {
     "data": {
      "image/png": "[encoded data removed]",
      "text/plain": [
       "<Figure size 432x288 with 1 Axes>"
      ]
     },
     "metadata": {
      "needs_background": "light"
     },
     "output_type": "display_data"
    },
    {
     "data": {
      "image/png": "[encoded data removed]",
      "text/plain": [
       "<Figure size 432x288 with 1 Axes>"
      ]
     },
     "metadata": {
      "needs_background": "light"
     },
     "output_type": "display_data"
    },
    {
     "data": {
      "image/png": "[encoded data removed]",
      "text/plain": [
       "<Figure size 432x288 with 1 Axes>"
      ]
     },
     "metadata": {
      "needs_background": "light"
     },
     "output_type": "display_data"
    }
   ],
   "source": [
    "boxplot_cv_results(models_res)"
   ]
  },
  {
   "cell_type": "markdown",
   "metadata": {},
   "source": [
    "### 6.2 Training with t-SNE reduced data"
   ]
  },
  {
   "cell_type": "code",
   "execution_count": 60,
   "metadata": {},
   "outputs": [],
   "source": [
    "size_train = X_train.shape[0]\n",
    "X = np.vstack((X_train,X_test))\n",
    "X_tsne = TSNE(n_components=2, random_state=0).fit_transform( X ) \n",
    "X_train_tsne = X_tsne[0:size_train,:]\n",
    "X_test_tsne  = X_tsne[size_train:,:]"
   ]
  },
  {
   "cell_type": "code",
   "execution_count": 61,
   "metadata": {},
   "outputs": [
    {
     "name": "stderr",
     "output_type": "stream",
     "text": [
      "/Users/shashank/anaconda3/lib/python3.7/site-packages/sklearn/metrics/classification.py:1437: UndefinedMetricWarning: Precision and F-score are ill-defined and being set to 0.0 in labels with no predicted samples.\n",
      "  'precision', 'predicted', average, warn_for)\n",
      "/Users/shashank/anaconda3/lib/python3.7/site-packages/sklearn/svm/base.py:929: ConvergenceWarning: Liblinear failed to converge, increase the number of iterations.\n",
      "  \"the number of iterations.\", ConvergenceWarning)\n"
     ]
    },
    {
     "data": {
      "text/html": [
       "<div>\n",
       "<style scoped>\n",
       "    .dataframe tbody tr th:only-of-type {\n",
       "        vertical-align: middle;\n",
       "    }\n",
       "\n",
       "    .dataframe tbody tr th {\n",
       "        vertical-align: top;\n",
       "    }\n",
       "\n",
       "    .dataframe thead th {\n",
       "        text-align: right;\n",
       "    }\n",
       "</style>\n",
       "<table border=\"1\" class=\"dataframe\">\n",
       "  <thead>\n",
       "    <tr style=\"text-align: right;\">\n",
       "      <th></th>\n",
       "      <th>Model Name</th>\n",
       "      <th>Train Accuracy Mean</th>\n",
       "      <th>Validation Accuracy Mean</th>\n",
       "      <th>Time</th>\n",
       "      <th>Test F1 Score</th>\n",
       "    </tr>\n",
       "  </thead>\n",
       "  <tbody>\n",
       "    <tr>\n",
       "      <th>0</th>\n",
       "      <td>RandomForestClassifier</td>\n",
       "      <td>0.999524</td>\n",
       "      <td>0.993333</td>\n",
       "      <td>0.00804386</td>\n",
       "      <td>0.995840</td>\n",
       "    </tr>\n",
       "    <tr>\n",
       "      <th>4</th>\n",
       "      <td>LinearSVC</td>\n",
       "      <td>0.991905</td>\n",
       "      <td>0.987619</td>\n",
       "      <td>0.0421359</td>\n",
       "      <td>0.995840</td>\n",
       "    </tr>\n",
       "    <tr>\n",
       "      <th>3</th>\n",
       "      <td>DecisionTreeClassifier</td>\n",
       "      <td>1</td>\n",
       "      <td>0.994286</td>\n",
       "      <td>0.000870514</td>\n",
       "      <td>0.991657</td>\n",
       "    </tr>\n",
       "    <tr>\n",
       "      <th>2</th>\n",
       "      <td>GaussianNB</td>\n",
       "      <td>0.987143</td>\n",
       "      <td>0.986667</td>\n",
       "      <td>0.000775576</td>\n",
       "      <td>0.979398</td>\n",
       "    </tr>\n",
       "    <tr>\n",
       "      <th>1</th>\n",
       "      <td>BernoulliNB</td>\n",
       "      <td>0.759048</td>\n",
       "      <td>0.759048</td>\n",
       "      <td>0.000803471</td>\n",
       "      <td>0.655380</td>\n",
       "    </tr>\n",
       "  </tbody>\n",
       "</table>\n",
       "</div>"
      ],
      "text/plain": [
       "               Model Name Train Accuracy Mean Validation Accuracy Mean  \\\n",
       "0  RandomForestClassifier            0.999524                 0.993333   \n",
       "4               LinearSVC            0.991905                 0.987619   \n",
       "3  DecisionTreeClassifier                   1                 0.994286   \n",
       "2              GaussianNB            0.987143                 0.986667   \n",
       "1             BernoulliNB            0.759048                 0.759048   \n",
       "\n",
       "          Time  Test F1 Score  \n",
       "0   0.00804386       0.995840  \n",
       "4    0.0421359       0.995840  \n",
       "3  0.000870514       0.991657  \n",
       "2  0.000775576       0.979398  \n",
       "1  0.000803471       0.655380  "
      ]
     },
     "execution_count": 61,
     "metadata": {},
     "output_type": "execute_result"
    }
   ],
   "source": [
    "ml_alg_columns = ['Model Name','Train Accuracy Mean', 'Validation Accuracy Mean','Time']\n",
    "ml_alg_compare_tsne = pd.DataFrame(columns = ml_alg_columns)\n",
    "models_res = {}\n",
    "row_index = 0\n",
    "for alg in ml_alg:\n",
    "    ml_alg_name = alg.__class__.__name__\n",
    "    \n",
    "    ml_alg_compare_tsne.loc[row_index, 'Model Name'] = ml_alg_name\n",
    "    cv_results = model_selection.cross_validate(alg, X_train_tsne, y_train, cv=5, n_jobs=-1, verbose=False, return_train_score=True)\n",
    "    models_res[ml_alg_name] = cv_results\n",
    "    ml_alg_compare_tsne.loc[row_index, 'Time'] = cv_results['fit_time'].mean()\n",
    "    ml_alg_compare_tsne.loc[row_index, 'Train Accuracy Mean'] = cv_results['train_score'].mean()\n",
    "    ml_alg_compare_tsne.loc[row_index, 'Validation Accuracy Mean'] = cv_results['test_score'].mean()   \n",
    "    alg.fit(X_train_tsne, y_train)\n",
    "    ml_alg_predict[ml_alg_name] = alg.predict(X_test_tsne)\n",
    "    y_true, y_pred = y_test, ml_alg_predict[ml_alg_name]\n",
    "    ml_alg_compare_tsne.loc[row_index, 'Test F1 Score'] = classification_report(y_true,y_pred, output_dict=True)['weighted avg']['f1-score']\n",
    "    row_index+=1\n",
    "\n",
    "ml_alg_compare_tsne.sort_values(by = ['Test F1 Score'], ascending = False, inplace = True)\n",
    "ml_alg_compare_tsne\n"
   ]
  },
  {
   "cell_type": "code",
   "execution_count": 62,
   "metadata": {
    "scrolled": true
   },
   "outputs": [
    {
     "data": {
      "image/png": "[encoded data removed]",
      "text/plain": [
       "<Figure size 432x288 with 1 Axes>"
      ]
     },
     "metadata": {
      "needs_background": "light"
     },
     "output_type": "display_data"
    },
    {
     "data": {
      "image/png": "[encoded data removed]",
      "text/plain": [
       "<Figure size 432x288 with 1 Axes>"
      ]
     },
     "metadata": {
      "needs_background": "light"
     },
     "output_type": "display_data"
    },
    {
     "data": {
      "image/png": "[encoded data removed]",
      "text/plain": [
       "<Figure size 432x288 with 1 Axes>"
      ]
     },
     "metadata": {
      "needs_background": "light"
     },
     "output_type": "display_data"
    },
    {
     "data": {
      "image/png": "[encoded data removed]",
      "text/plain": [
       "<Figure size 432x288 with 1 Axes>"
      ]
     },
     "metadata": {
      "needs_background": "light"
     },
     "output_type": "display_data"
    },
    {
     "data": {
      "image/png": "[encoded data removed]",
      "text/plain": [
       "<Figure size 432x288 with 1 Axes>"
      ]
     },
     "metadata": {
      "needs_background": "light"
     },
     "output_type": "display_data"
    }
   ],
   "source": [
    "boxplot_cv_results(models_res)"
   ]
  },
  {
   "cell_type": "markdown",
   "metadata": {},
   "source": [
    "## 7. Hyperparameter Tuning\n",
    "### 7.1 Tuning with t-SNE data on Random Forest, SVM, Decision Tree\n",
    "#### 7.1.1 Random Forest"
   ]
  },
  {
   "cell_type": "code",
   "execution_count": 60,
   "metadata": {},
   "outputs": [
    {
     "name": "stdout",
     "output_type": "stream",
     "text": [
      "Best hyperparameters {'criterion': 'entropy', 'max_depth': 5, 'max_features': 'auto', 'n_estimators': 30}\n"
     ]
    }
   ],
   "source": [
    "parameters = {'criterion':('entropy', 'gini'), 'n_estimators':[x for x in range(10,100,20)], \n",
    "              'max_features':('auto','sqrt','log2'),\n",
    "              'max_depth' : [int(x) for x in np.linspace(5, 20, num = 7)]}\n",
    "rf = ensemble.RandomForestClassifier(bootstrap=True, random_state=0, n_jobs=-1)\n",
    "clf = GridSearchCV(rf, parameters, cv=5, n_jobs=-1)\n",
    "clf.fit(X_train_tsne, y_train)\n",
    "print(\"Best hyperparameters\", clf.best_params_)"
   ]
  },
  {
   "cell_type": "code",
   "execution_count": 58,
   "metadata": {},
   "outputs": [
    {
     "data": {
      "image/png": "[encoded data removed]",
      "text/plain": [
       "<Figure size 432x288 with 1 Axes>"
      ]
     },
     "metadata": {
      "needs_background": "light"
     },
     "output_type": "display_data"
    }
   ],
   "source": [
    "train_errors=[]\n",
    "test_errors=[]\n",
    "num_trees=range(1,50, 5)\n",
    "\n",
    "for trees in num_trees:\n",
    "    alg = ensemble.RandomForestClassifier(bootstrap=True, random_state=0, criterion='entropy', n_estimators=trees, n_jobs=-1, max_depth=5)\n",
    "    cv_results = model_selection.cross_validate(alg, X_train_tsne, y_train, cv=5, verbose=False, return_train_score=True)\n",
    "    alg.fit(X_train_tsne, y_train)\n",
    "    train_errors.append(cv_results['train_score'].mean())\n",
    "    test_errors.append(alg.score(X_test_tsne, y_test))\n",
    "    \n",
    "plt.plot(num_trees, train_errors, 'o-', color=\"g\", label=\"Training score\")\n",
    "plt.plot(num_trees, test_errors, 'o-', color=\"r\", label=\"Test score\")\n",
    "plt.title(\"Stopping criteria for Random Forest\")\n",
    "plt.xlabel(\"# decision trees\")\n",
    "plt.ylabel(\"score\")\n",
    "plt.legend(loc=\"best\")\n",
    "plt.ylim(0.95, 1.02)\n",
    "plt.grid()\n",
    "plt.show()"
   ]
  },
  {
   "cell_type": "code",
   "execution_count": 59,
   "metadata": {},
   "outputs": [
    {
     "name": "stdout",
     "output_type": "stream",
     "text": [
      "              precision    recall  f1-score   support\n",
      "\n",
      "           0     0.9890    1.0000    0.9945        90\n",
      "           1     1.0000    1.0000    1.0000        25\n",
      "           2     1.0000    1.0000    1.0000        38\n",
      "           3     1.0000    0.9787    0.9892        47\n",
      "           4     1.0000    1.0000    1.0000        41\n",
      "\n",
      "    accuracy                         0.9959       241\n",
      "   macro avg     0.9978    0.9957    0.9967       241\n",
      "weighted avg     0.9959    0.9959    0.9958       241\n",
      "\n",
      "Training accuracy: 0.9952380952380953\n",
      "Test accuracy: 0.995850622406639\n"
     ]
    }
   ],
   "source": [
    "rf = ensemble.RandomForestClassifier(bootstrap=True, random_state=0, n_jobs=-1, n_estimators=6, \n",
    "                                     criterion = 'entropy', max_features= 'auto', max_depth=5)\n",
    "rf.fit(X_train_tsne, y_train)\n",
    "print(classification_report(y_test,clf.predict(X_test_tsne), digits=4))\n",
    "print(\"Training accuracy:\",rf.score(X_train_tsne, y_train))\n",
    "print(\"Test accuracy:\",rf.score(X_test_tsne, y_test))"
   ]
  },
  {
   "cell_type": "markdown",
   "metadata": {},
   "source": [
    "#### 7.1.2 SVM Classifier"
   ]
  },
  {
   "cell_type": "code",
   "execution_count": 47,
   "metadata": {},
   "outputs": [
    {
     "data": {
      "text/plain": [
       "Text(0, 0.5, 'Error')"
      ]
     },
     "execution_count": 47,
     "metadata": {},
     "output_type": "execute_result"
    },
    {
     "data": {
      "image/png": "[encoded data removed]",
      "text/plain": [
       "<Figure size 432x288 with 1 Axes>"
      ]
     },
     "metadata": {
      "needs_background": "light"
     },
     "output_type": "display_data"
    }
   ],
   "source": [
    "train_error, test_error = [],[]\n",
    "for c in np.arange(0.1, 1, .1):\n",
    "   \n",
    "    classifier = svm.SVC( C= c, gamma='auto', kernel= 'linear')\n",
    "    classifier.fit(X_train_tsne, y_train)\n",
    "    y_pred = classifier.predict(X_test_tsne)    \n",
    "    train_error.append(1-classifier.score(X_train_tsne, y_train))\n",
    "    test_error.append(1-classifier.score(X_test_tsne, y_test))\n",
    "    \n",
    "plt.figure()\n",
    "plt.clf()\n",
    "plt.plot(train_error, label=\"Training Error\")\n",
    "plt.plot(test_error, label=\"Cross Validation Error\")\n",
    "plt.legend(loc=\"best\")\n",
    "plt.xlim(0.1, 1.1)\n",
    "plt.xlabel(\"Value of C\")\n",
    "plt.ylabel(\"Error\")"
   ]
  },
  {
   "cell_type": "code",
   "execution_count": 61,
   "metadata": {},
   "outputs": [
    {
     "name": "stdout",
     "output_type": "stream",
     "text": [
      "              precision    recall  f1-score   support\n",
      "\n",
      "           0     0.9890    1.0000    0.9945        90\n",
      "           1     1.0000    1.0000    1.0000        25\n",
      "           2     1.0000    1.0000    1.0000        38\n",
      "           3     1.0000    0.9787    0.9892        47\n",
      "           4     1.0000    1.0000    1.0000        41\n",
      "\n",
      "    accuracy                         0.9959       241\n",
      "   macro avg     0.9978    0.9957    0.9967       241\n",
      "weighted avg     0.9959    0.9959    0.9958       241\n",
      "\n",
      "Best hyperparameters: {'C': 0.1, 'gamma': 'auto', 'kernel': 'linear'}\n",
      "Training accuracy: 0.9952380952380953\n",
      "Test accuracy: 0.995850622406639\n"
     ]
    }
   ],
   "source": [
    "parameters = {\n",
    "    'kernel':('linear', 'poly', 'rbf', 'sigmoid'), \n",
    "    'C':[0.1],\n",
    "    'gamma':('auto','scale')\n",
    "}\n",
    "svc = svm.SVC(random_state=0)\n",
    "clf = GridSearchCV(svc, parameters, cv=5, n_jobs=-1)\n",
    "clf.fit(X_train_tsne, y_train)\n",
    "print(classification_report(y_test,clf.predict(X_test_tsne), digits=4))\n",
    "print(\"Best hyperparameters:\", clf.best_params_)\n",
    "print(\"Training accuracy:\",clf.score(X_train_tsne, y_train))\n",
    "print(\"Test accuracy:\",clf.score(X_test_tsne, y_test))"
   ]
  },
  {
   "cell_type": "markdown",
   "metadata": {},
   "source": [
    "#### 7.1.3 Decision Tree"
   ]
  },
  {
   "cell_type": "code",
   "execution_count": 62,
   "metadata": {},
   "outputs": [
    {
     "data": {
      "text/plain": [
       "Text(0, 0.5, 'Error')"
      ]
     },
     "execution_count": 62,
     "metadata": {},
     "output_type": "execute_result"
    },
    {
     "data": {
      "image/png": "[encoded data removed]",
      "text/plain": [
       "<Figure size 432x288 with 1 Axes>"
      ]
     },
     "metadata": {
      "needs_background": "light"
     },
     "output_type": "display_data"
    }
   ],
   "source": [
    "train_error, test_error = [],[]\n",
    "for depth_limit in range(1, 21):\n",
    "   \n",
    "    classifier = DecisionTreeClassifier(max_depth= depth_limit, random_state=5)\n",
    "    classifier.fit(X_train_tsne, y_train)\n",
    "    y_pred = classifier.predict(X_test_tsne)    \n",
    "    train_error.append(1-classifier.score(X_train_tsne, y_train))\n",
    "    test_error.append(1-classifier.score(X_test_tsne, y_test))\n",
    "plt.figure()\n",
    "plt.clf()\n",
    "plt.plot(train_error, label=\"Training Error\")\n",
    "plt.plot(test_error, label=\"Cross Validation Error\")\n",
    "plt.legend(loc=\"best\")\n",
    "plt.xlim(0,8)\n",
    "plt.xlabel(\"Tree Depth\")\n",
    "plt.ylabel(\"Error\")"
   ]
  },
  {
   "cell_type": "code",
   "execution_count": 63,
   "metadata": {},
   "outputs": [
    {
     "data": {
      "text/plain": [
       "Text(0, 0.5, 'Error')"
      ]
     },
     "execution_count": 63,
     "metadata": {},
     "output_type": "execute_result"
    },
    {
     "data": {
      "image/png": "[encoded data removed]",
      "text/plain": [
       "<Figure size 432x288 with 1 Axes>"
      ]
     },
     "metadata": {
      "needs_background": "light"
     },
     "output_type": "display_data"
    }
   ],
   "source": [
    "min_samples_splits = np.linspace(0.1, 1.0, 10, endpoint=True)\n",
    "for min_sample in min_samples_splits:\n",
    "   \n",
    "    classifier = DecisionTreeClassifier(max_depth= 3, random_state=5, min_samples_split=min_sample)\n",
    "    classifier.fit(X_train_tsne, y_train)\n",
    "    y_pred = classifier.predict(X_test_tsne)    \n",
    "    train_error.append(1-classifier.score(X_train_tsne, y_train))\n",
    "    test_error.append(1-classifier.score(X_test_tsne, y_test))\n",
    "plt.figure()\n",
    "plt.clf()\n",
    "plt.plot(train_error, label=\"Training Error\")\n",
    "plt.plot(test_error, label=\"Cross Validation Error\")\n",
    "plt.legend(loc=\"best\")\n",
    "plt.xlim(0.1,5)\n",
    "plt.xlabel(\"Min Sample Split\")\n",
    "plt.ylabel(\"Error\")"
   ]
  },
  {
   "cell_type": "code",
   "execution_count": 64,
   "metadata": {},
   "outputs": [
    {
     "name": "stdout",
     "output_type": "stream",
     "text": [
      "              precision    recall  f1-score   support\n",
      "\n",
      "           0     0.9783    1.0000    0.9890        90\n",
      "           1     1.0000    1.0000    1.0000        25\n",
      "           2     1.0000    1.0000    1.0000        38\n",
      "           3     1.0000    0.9574    0.9783        47\n",
      "           4     1.0000    1.0000    1.0000        41\n",
      "\n",
      "    accuracy                         0.9917       241\n",
      "   macro avg     0.9957    0.9915    0.9935       241\n",
      "weighted avg     0.9919    0.9917    0.9917       241\n",
      "\n",
      "Training accuracy: 0.9914285714285714\n",
      "Test accuracy: 0.991701244813278\n"
     ]
    }
   ],
   "source": [
    "parameters ={'criterion':['gini','entropy'], 'max_features' : ['auto', 'sqrt', 'log2']}\n",
    "dt = DecisionTreeClassifier(random_state=1, max_depth=3, min_samples_split=3)\n",
    "clf = GridSearchCV(dt, parameters, cv=10)\n",
    "clf.fit(X_train_tsne, y_train)\n",
    "print(classification_report(y_test,clf.predict(X_test_tsne), digits=4))\n",
    "print(\"Training accuracy:\",clf.score(X_train_tsne, y_train))\n",
    "print(\"Test accuracy:\",clf.score(X_test_tsne, y_test))"
   ]
  }
 ],
 "metadata": {
  "kernelspec": {
   "display_name": "Python 3",
   "language": "python",
   "name": "python3"
  },
  "language_info": {
   "codemirror_mode": {
    "name": "ipython",
    "version": 3
   },
   "file_extension": ".py",
   "mimetype": "text/x-python",
   "name": "python",
   "nbconvert_exporter": "python",
   "pygments_lexer": "ipython3",
   "version": "3.7.3"
  }
 },
 "nbformat": 4,
 "nbformat_minor": 4
}
